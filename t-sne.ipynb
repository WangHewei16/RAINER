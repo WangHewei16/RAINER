{
 "cells": [
  {
   "cell_type": "code",
   "execution_count": 5,
   "metadata": {},
   "outputs": [
    {
     "ename": "ModuleNotFoundError",
     "evalue": "No module named 'pandas'",
     "output_type": "error",
     "traceback": [
      "\u001b[0;31m---------------------------------------------------------------------------\u001b[0m",
      "\u001b[0;31mModuleNotFoundError\u001b[0m                       Traceback (most recent call last)",
      "Cell \u001b[0;32mIn[5], line 1\u001b[0m\n\u001b[0;32m----> 1\u001b[0m \u001b[38;5;28;01mimport\u001b[39;00m \u001b[38;5;21;01mpandas\u001b[39;00m \u001b[38;5;28;01mas\u001b[39;00m \u001b[38;5;21;01mpd\u001b[39;00m\n\u001b[1;32m      2\u001b[0m \u001b[38;5;28;01mimport\u001b[39;00m \u001b[38;5;21;01mnumpy\u001b[39;00m \u001b[38;5;28;01mas\u001b[39;00m \u001b[38;5;21;01mnp\u001b[39;00m\n\u001b[1;32m      3\u001b[0m \u001b[38;5;28;01mimport\u001b[39;00m \u001b[38;5;21;01mmatplotlib\u001b[39;00m\u001b[38;5;21;01m.\u001b[39;00m\u001b[38;5;21;01mpyplot\u001b[39;00m \u001b[38;5;28;01mas\u001b[39;00m \u001b[38;5;21;01mplt\u001b[39;00m\n",
      "\u001b[0;31mModuleNotFoundError\u001b[0m: No module named 'pandas'"
     ]
    }
   ],
   "source": [
    "import pandas as pd\n",
    "import numpy as np\n",
    "import matplotlib.pyplot as plt\n",
    "from sklearn.manifold import TSNE\n",
    "from sklearn.preprocessing import StandardScaler, LabelEncoder\n",
    "from matplotlib.colors import ListedColormap\n",
    "\n",
    "# Load the dataset\n",
    "file_path = 'weatherAUS.csv'\n",
    "weather_data = pd.read_csv(file_path)\n",
    "\n",
    "# Drop irrelevant features\n",
    "weather_data.drop([\"Evaporation\", \"Sunshine\", \"Cloud9am\", \"Cloud3pm\"], inplace=True, axis=1)\n",
    "\n",
    "# Fill numerical features' NaN values with the mean\n",
    "numerical_features = weather_data.select_dtypes(include=[np.number]).columns\n",
    "for feature in numerical_features:\n",
    "    weather_data[feature] = weather_data[feature].fillna(weather_data[feature].mean())\n",
    "\n",
    "# Fill categorical features' NaN values with the mode\n",
    "categorical_features = weather_data.select_dtypes(include=['object']).columns\n",
    "for feature in categorical_features:\n",
    "    weather_data[feature] = weather_data[feature].fillna(weather_data[feature].mode()[0])\n",
    "\n",
    "# Print and remove rows where the target variable 'RainTomorrow' is NaN\n",
    "missing_rain_tomorrow = weather_data['RainTomorrow'].isna().sum()\n",
    "print(f\"Number of missing values in 'RainTomorrow': {missing_rain_tomorrow}\")\n",
    "weather_data.dropna(subset=['RainTomorrow'], inplace=True)\n",
    "\n",
    "# Encode categorical features\n",
    "label_encoder = LabelEncoder()\n",
    "for feature in categorical_features:\n",
    "    weather_data[feature] = label_encoder.fit_transform(weather_data[feature])\n",
    "\n",
    "# Separate target variable 'RainTomorrow'\n",
    "y = weather_data['RainTomorrow']\n",
    "X = weather_data.drop(columns=['RainTomorrow'])\n",
    "\n",
    "# Standardize numerical features\n",
    "scaler = StandardScaler()\n",
    "scaled_data = scaler.fit_transform(X)\n",
    "\n",
    "# Apply t-SNE\n",
    "tsne = TSNE(n_components=2, perplexity=30, max_iter=1000, random_state=42)\n",
    "tsne_result = tsne.fit_transform(scaled_data)\n",
    "\n",
    "# Create a scatter plot of t-SNE results\n",
    "plt.figure(figsize=(12, 8))\n",
    "custom_colors = ListedColormap(['#FF0000', '#0000FF'])  # 红色和蓝色\n",
    "scatter = plt.scatter(tsne_result[:, 0], tsne_result[:, 1], c=y, cmap=custom_colors, alpha=0.5, s=5)\n",
    "plt.colorbar(scatter, ticks=[0, 1], label=\"RainTomorrow (0: No Rain, 1: Rain)\")\n",
    "plt.title(\"t-SNE Visualization of Weather Data (RainTomorrow)\")\n",
    "plt.xlabel(\"t-SNE Dimension 1\")\n",
    "plt.ylabel(\"t-SNE Dimension 2\")\n",
    "plt.grid(alpha=0.3)\n",
    "plt.show()\n"
   ]
  }
 ],
 "metadata": {
  "kernelspec": {
   "display_name": "Python 3",
   "language": "python",
   "name": "python3"
  },
  "language_info": {
   "codemirror_mode": {
    "name": "ipython",
    "version": 3
   },
   "file_extension": ".py",
   "mimetype": "text/x-python",
   "name": "python",
   "nbconvert_exporter": "python",
   "pygments_lexer": "ipython3",
   "version": "3.13.1"
  }
 },
 "nbformat": 4,
 "nbformat_minor": 2
}
